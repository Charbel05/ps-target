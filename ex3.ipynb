{
 "cells": [
  {
   "cell_type": "markdown",
   "metadata": {},
   "source": [
    "### 3)Observe o trecho de código abaixo: \n",
    "\n",
    "```sh\n",
    "int INDICE = 12, SOMA = 0, K = 1; \n",
    "enquanto K < INDICE faça { \n",
    "    K = K + 1; SOMA = SOMA + K; \n",
    "} \n",
    "imprimir(SOMA);\n",
    "```\n",
    "\n",
    "Ao final do processamento, qual será o valor da variável SOMA?"
   ]
  }
 ],
 "metadata": {
  "language_info": {
   "name": "python"
  }
 },
 "nbformat": 4,
 "nbformat_minor": 2
}
