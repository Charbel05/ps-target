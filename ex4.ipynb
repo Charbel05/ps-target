{
 "cells": [
  {
   "cell_type": "markdown",
   "metadata": {},
   "source": [
    "### 4) Descubra a lógica e complete o próximo elemento:\n",
    "- a) 1, 3, 5, 7, ___\n",
    "- b) 2, 4, 8, 16, 32, 64, ____\n",
    "- c) 0, 1, 4, 9, 16, 25, 36, ____\n",
    "- d) 4, 16, 36, 64, ____\n",
    "- e) 1, 1, 2, 3, 5, 8, ____\n",
    "- f) 2,10, 12, 16, 17, 18, 19, ____ "
   ]
  },
  {
   "cell_type": "markdown",
   "metadata": {},
   "source": [
    "- a) 9\n",
    "- b) 128\n",
    "- c) 49\n",
    "- d) 100\n",
    "- e) 13\n",
    "- f) 20"
   ]
  }
 ],
 "metadata": {
  "language_info": {
   "name": "python"
  }
 },
 "nbformat": 4,
 "nbformat_minor": 2
}
