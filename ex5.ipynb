{
 "cells": [
  {
   "cell_type": "markdown",
   "metadata": {},
   "source": [
    "#### 5) Você está em uma sala com três interruptores, cada um conectado a uma lâmpada em salas diferentes. Você não pode ver as lâmpadas da sala em que está, mas pode ligar e desligar os interruptores quantas vezes quiser. Seu objetivo é descobrir qual interruptor controla qual lâmpada. Como você faria para descobrir, usando apenas duas idas até uma das salas das lâmpadas, qual interruptor controla cada lâmpada? "
   ]
  },
  {
   "cell_type": "markdown",
   "metadata": {},
   "source": [
    "R: No cenário que temos as salas A (dos interruptores), B, C e D. Eu ligaria os interruptores 1 e 2, deixando-os um tempo ligado. Após uns minutos desligaria o interruptor 2 e iria para sala B, deixando o seguinte cenário possível:\n",
    "\n",
    "##### Cenário 1\n",
    "- a sala B estar apagada e com a lâmpada quente, então: **Interruptor 2 = sala B**\n",
    "- ainda seria necessário entrar na sala C: se estivesse apagada, então: **Interruptor 3 = sala C & Interruptor 1 = sala D**\n",
    "- se estivesse ligada: **Interruptor 1 = sala C & Interruptor 3 = sala D**\n",
    "\n",
    "##### Cenário 2\n",
    "- a sala B estar ligada, então: **Interruptor 1 = sala B**\n",
    "- ainda seria necessário entrar na sala C: se estivesse apagada mas com a luz quente, então: **Interruptor 2 = sala C & Interruptor 3 = sala D**\n",
    "- senão: **Interruptor 3 = sala C & Interruptor 2 = sala D**\n",
    "\n",
    "##### Cenário 3\n",
    "- a sala B estar apagada e com a lâmpada fria, então: **Interruptor 3 = sala B**\n",
    "- ainda seria necessário entrar na sala C: se estivesse apagada, então: **Interruptor 2 = sala C & Interruptor 1 = sala D**\n",
    "- se estivesse ligada: **Interruptor 1 = sala C & Interruptor 2 = sala D**"
   ]
  },
  {
   "cell_type": "markdown",
   "metadata": {},
   "source": []
  }
 ],
 "metadata": {
  "language_info": {
   "name": "python"
  }
 },
 "nbformat": 4,
 "nbformat_minor": 2
}
